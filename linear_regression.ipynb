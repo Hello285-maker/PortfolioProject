{
 "cells": [
  {
   "cell_type": "markdown",
   "metadata": {
    "id": "yX_CfF5GTvlF"
   },
   "source": [
    "Linear regression\n",
    "Data preparation"
   ]
  },
  {
   "cell_type": "code",
   "execution_count": 11,
   "metadata": {
    "colab": {
     "base_uri": "https://localhost:8080/",
     "height": 282
    },
    "id": "IJ5wu-hcKRDp",
    "outputId": "55685ad4-0a18-4841-82b2-2c31c7e3f661"
   },
   "outputs": [
    {
     "data": {
      "text/plain": [
       "<matplotlib.collections.PathCollection at 0x7ff6f170e310>"
      ]
     },
     "execution_count": 11,
     "metadata": {
      "tags": []
     },
     "output_type": "execute_result"
    },
    {
     "data": {
      "image/png": "[encoded data removed]",
      "text/plain": [
       "<Figure size 432x288 with 1 Axes>"
      ]
     },
     "metadata": {
      "needs_background": "light",
      "tags": []
     },
     "output_type": "display_data"
    }
   ],
   "source": [
    "#Import the required modules, numpy for calculation, and Matplotlib for drawing \n",
    "import numpy as np \n",
    "import matplotlib.pyplot as plt \n",
    "#This code is for jupyter Notebook only \n",
    "%matplotlib inline \n",
    "\n",
    "# define data, and change list to array \n",
    "x = [3,21,22,34,54,34,55,67,89,99] \n",
    "x = np.array(x) \n",
    "y = [1,10,14,34,44,36,22,67,79,90] \n",
    "y = np.array(y) \n",
    "#Show the effect of a scatter plot \n",
    "plt.scatter(x,y)"
   ]
  },
  {
   "cell_type": "markdown",
   "metadata": {
    "id": "OQwl9uTZeF0o"
   },
   "source": [
    "Define related functions"
   ]
  },
  {
   "cell_type": "code",
   "execution_count": 12,
   "metadata": {
    "id": "BkzxhH5keIKo"
   },
   "outputs": [],
   "source": [
    "#The basic linear regression model is wx+ b, and since this is a two-dimensional space, the model is ax+ b \n",
    "def model(a, b, x):\n",
    "  return a*x + b \n",
    "\n",
    "#The most commonly used loss function of linear regression model is the loss function of mean variance difference \n",
    "def loss_function(a, b, x, y):\n",
    "  num = len(x) \n",
    "  prediction=model(a,b,x) \n",
    "  return (0.5/num) * (np.square(prediction-y)).sum() \n",
    "\n",
    "#The optimization function mainly USES partial derivatives to update two parameters a and b \n",
    "def optimize(a,b,x,y): \n",
    "  num = len(x) \n",
    "  prediction = model(a,b,x)\n",
    "  #Update the values of A and B by finding the partial derivatives of the loss function on a and b \n",
    "  da = (1.0/num) * ((prediction -y)*x).sum() \n",
    "  db = (1.0/num) * ((prediction -y).sum()) \n",
    "  a = a - Lr*da \n",
    "  b = b - Lr*db \n",
    "  return a, b\n",
    "\n",
    "#iterated function, return a and b \n",
    "def iterate(a,b,x,y,times): \n",
    "  for i in range(times): \n",
    "    a,b = optimize(a,b,x,y) \n",
    "  return a,b"
   ]
  },
  {
   "cell_type": "markdown",
   "metadata": {
    "id": "2KPXed0DhQ9w"
   },
   "source": [
    "Start the iteration\n",
    "Step 1 Initialization and Iterative optimization model"
   ]
  },
  {
   "cell_type": "code",
   "execution_count": 13,
   "metadata": {
    "colab": {
     "base_uri": "https://localhost:8080/",
     "height": 332
    },
    "id": "X6U-sVtPhVgX",
    "outputId": "e799755e-ac64-4428-8d64-0464a104ffa6"
   },
   "outputs": [
    {
     "name": "stdout",
     "output_type": "stream",
     "text": [
      "[0.58489815]\n",
      "[0.82880703]\n",
      "[0.66646013] [0.82989834] 97.17564906707776\n"
     ]
    },
    {
     "data": {
      "text/plain": [
       "[<matplotlib.lines.Line2D at 0x7ff6f16f0f10>]"
      ]
     },
     "execution_count": 13,
     "metadata": {
      "tags": []
     },
     "output_type": "execute_result"
    },
    {
     "data": {
      "image/png": "[encoded data removed]",
      "text/plain": [
       "<Figure size 432x288 with 1 Axes>"
      ]
     },
     "metadata": {
      "needs_background": "light",
      "tags": []
     },
     "output_type": "display_data"
    }
   ],
   "source": [
    "#Initialize parameters and display \n",
    "a = np.random.rand(1) \n",
    "print(a) \n",
    "b = np.random.rand(1) \n",
    "print(b) \n",
    "Lr = 1e-4 \n",
    "\n",
    "#For the first iteration, the parameter values, losses, and visualization after the iteration are displayed \n",
    "a,b = iterate(a,b,x,y,1) \n",
    "prediction=model(a,b,x) \n",
    "loss = loss_function(a, b, x, y) \n",
    "print(a,b,loss) \n",
    "plt.scatter(x,y) \n",
    "plt.plot(x,prediction)"
   ]
  },
  {
   "cell_type": "markdown",
   "metadata": {
    "id": "RjRANjypSses"
   },
   "source": [
    "Step 2 In the second iteration, the parameter values, loss values and visualization effects after the iteration are displayed"
   ]
  },
  {
   "cell_type": "code",
   "execution_count": 14,
   "metadata": {
    "colab": {
     "base_uri": "https://localhost:8080/",
     "height": 298
    },
    "id": "Zlmi0DZmhotm",
    "outputId": "c4fff2bc-9c2d-46f7-9c52-9f2a5eda1748"
   },
   "outputs": [
    {
     "name": "stdout",
     "output_type": "stream",
     "text": [
      "[0.76078611] [0.8310335] 58.36738083692899\n"
     ]
    },
    {
     "data": {
      "text/plain": [
       "[<matplotlib.lines.Line2D at 0x7ff6f165bf50>]"
      ]
     },
     "execution_count": 14,
     "metadata": {
      "tags": []
     },
     "output_type": "execute_result"
    },
    {
     "data": {
      "image/png": "[encoded data removed]",
      "text/plain": [
       "<Figure size 432x288 with 1 Axes>"
      ]
     },
     "metadata": {
      "needs_background": "light",
      "tags": []
     },
     "output_type": "display_data"
    }
   ],
   "source": [
    "a,b = iterate(a,b,x,y,2) \n",
    "prediction=model(a,b,x) \n",
    "loss = loss_function(a, b, x, y) \n",
    "print(a,b,loss) \n",
    "plt.scatter(x,y) \n",
    "plt.plot(x,prediction)"
   ]
  },
  {
   "cell_type": "markdown",
   "metadata": {
    "id": "tf-C0--7TApM"
   },
   "source": [
    "Step 3 The third iteration shows the parameter values, loss values and visualization after iteration"
   ]
  },
  {
   "cell_type": "code",
   "execution_count": 15,
   "metadata": {
    "colab": {
     "base_uri": "https://localhost:8080/",
     "height": 298
    },
    "id": "NEmUFss5TQNL",
    "outputId": "ae2cd6ea-73c7-4eeb-86b9-c7da8f7ea569"
   },
   "outputs": [
    {
     "name": "stdout",
     "output_type": "stream",
     "text": [
      "[0.81755937] [0.83144645] 48.48142527878234\n"
     ]
    },
    {
     "data": {
      "text/plain": [
       "[<matplotlib.lines.Line2D at 0x7ff6f15cf650>]"
      ]
     },
     "execution_count": 15,
     "metadata": {
      "tags": []
     },
     "output_type": "execute_result"
    },
    {
     "data": {
      "image/png": "[encoded data removed]",
      "text/plain": [
       "<Figure size 432x288 with 1 Axes>"
      ]
     },
     "metadata": {
      "needs_background": "light",
      "tags": []
     },
     "output_type": "display_data"
    }
   ],
   "source": [
    "a,b = iterate(a,b,x,y,3)\n",
    "prediction=model(a,b,x)\n",
    "loss = loss_function(a, b, x, y)\n",
    "print(a,b,loss)\n",
    "plt.scatter(x,y)\n",
    "plt.plot(x,prediction)"
   ]
  },
  {
   "cell_type": "markdown",
   "metadata": {
    "id": "rhqaL82GTdLt"
   },
   "source": [
    "Step 4 In the fourth iteration, parameter values, loss values and visualization effects are displayed"
   ]
  },
  {
   "cell_type": "code",
   "execution_count": 16,
   "metadata": {
    "colab": {
     "base_uri": "https://localhost:8080/",
     "height": 298
    },
    "id": "qRH4fpC-TfHE",
    "outputId": "5137e74f-fc0a-4243-cb61-e82bb05bfd5a"
   },
   "outputs": [
    {
     "name": "stdout",
     "output_type": "stream",
     "text": [
      "[0.83863229] [0.83116544] 47.38736568233845\n"
     ]
    },
    {
     "data": {
      "text/plain": [
       "[<matplotlib.lines.Line2D at 0x7ff6f1f16690>]"
      ]
     },
     "execution_count": 16,
     "metadata": {
      "tags": []
     },
     "output_type": "execute_result"
    },
    {
     "data": {
      "image/png": "[encoded data removed]",
      "text/plain": [
       "<Figure size 432x288 with 1 Axes>"
      ]
     },
     "metadata": {
      "needs_background": "light",
      "tags": []
     },
     "output_type": "display_data"
    }
   ],
   "source": [
    "a,b = iterate(a,b,x,y,4)\n",
    "prediction=model(a,b,x)\n",
    "loss = loss_function(a, b, x, y)\n",
    "print(a,b,loss)\n",
    "plt.scatter(x,y)\n",
    "plt.plot(x,prediction)"
   ]
  },
  {
   "cell_type": "markdown",
   "metadata": {
    "id": "yZel5s5eTjmc"
   },
   "source": [
    "Step 5 The fifth iteration shows the parameter value, loss value and visualization effect after iteration"
   ]
  },
  {
   "cell_type": "code",
   "execution_count": 17,
   "metadata": {
    "colab": {
     "base_uri": "https://localhost:8080/",
     "height": 298
    },
    "id": "Ov-Uvdv8TlNk",
    "outputId": "3398f22b-b216-47a9-9de9-2613d842b636"
   },
   "outputs": [
    {
     "name": "stdout",
     "output_type": "stream",
     "text": [
      "[0.84372353] [0.83049074] 47.331191559379484\n"
     ]
    },
    {
     "data": {
      "text/plain": [
       "[<matplotlib.lines.Line2D at 0x7ff6f16ab750>]"
      ]
     },
     "execution_count": 17,
     "metadata": {
      "tags": []
     },
     "output_type": "execute_result"
    },
    {
     "data": {
      "image/png": "[encoded data removed]",
      "text/plain": [
       "<Figure size 432x288 with 1 Axes>"
      ]
     },
     "metadata": {
      "needs_background": "light",
      "tags": []
     },
     "output_type": "display_data"
    }
   ],
   "source": [
    "a,b = iterate(a,b,x,y,5)\n",
    "prediction=model(a,b,x)\n",
    "loss = loss_function(a, b, x, y)\n",
    "print(a,b,loss)\n",
    "plt.scatter(x,y)\n",
    "plt.plot(x,prediction)"
   ]
  },
  {
   "cell_type": "markdown",
   "metadata": {
    "id": "sQS4R1JUTobr"
   },
   "source": [
    "Step 6 The 10000th iteration, showing the parameter values, losses and visualization after iteration"
   ]
  },
  {
   "cell_type": "code",
   "execution_count": 18,
   "metadata": {
    "colab": {
     "base_uri": "https://localhost:8080/",
     "height": 298
    },
    "id": "7muFlwVYTqNb",
    "outputId": "bbc0cca1-ef37-4663-e911-e1bd045b958a"
   },
   "outputs": [
    {
     "name": "stdout",
     "output_type": "stream",
     "text": [
      "[0.8646793] [-0.48614004] 45.58526505361339\n"
     ]
    },
    {
     "data": {
      "text/plain": [
       "[<matplotlib.lines.Line2D at 0x7ff6f14e25d0>]"
      ]
     },
     "execution_count": 18,
     "metadata": {
      "tags": []
     },
     "output_type": "execute_result"
    },
    {
     "data": {
      "image/png": "[encoded data removed]",
      "text/plain": [
       "<Figure size 432x288 with 1 Axes>"
      ]
     },
     "metadata": {
      "needs_background": "light",
      "tags": []
     },
     "output_type": "display_data"
    }
   ],
   "source": [
    "a,b = iterate(a,b,x,y,10000)\n",
    "prediction=model(a,b,x)\n",
    "loss = loss_function(a, b, x, y)\n",
    "print(a,b,loss)\n",
    "plt.scatter(x,y)\n",
    "plt.plot(x,prediction)"
   ]
  }
 ],
 "metadata": {
  "colab": {
   "collapsed_sections": [],
   "name": "linear_regression.ipynb",
   "provenance": []
  },
  "kernelspec": {
   "display_name": "Python 3",
   "language": "python",
   "name": "python3"
  },
  "language_info": {
   "codemirror_mode": {
    "name": "ipython",
    "version": 3
   },
   "file_extension": ".py",
   "mimetype": "text/x-python",
   "name": "python",
   "nbconvert_exporter": "python",
   "pygments_lexer": "ipython3",
   "version": "3.8.5"
  }
 },
 "nbformat": 4,
 "nbformat_minor": 1
}
